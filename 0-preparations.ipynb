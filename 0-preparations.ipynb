{
 "cells": [
  {
   "cell_type": "markdown",
   "metadata": {},
   "source": [
    "** Step 1. Set up emulab geni-lib package for CloudLab **"
   ]
  },
  {
   "cell_type": "code",
   "execution_count": null,
   "metadata": {},
   "outputs": [],
   "source": [
    "!cd emulab-geni-lib-1baf79cf12cb & python setup.py build"
   ]
  },
  {
   "cell_type": "code",
   "execution_count": null,
   "metadata": {},
   "outputs": [],
   "source": [
    "!cd emulab-geni-lib-1baf79cf12cb & python setup.py install"
   ]
  },
  {
   "cell_type": "markdown",
   "metadata": {},
   "source": [
    "** Step 2: Reload geni-lib for the first time **\n",
    "\n",
    "On the top bar of this notebook, select `Kernel` and then `Restart`"
   ]
  },
  {
   "cell_type": "markdown",
   "metadata": {},
   "source": [
    "** Step 3: Test emulab geni-lib installation **\n",
    "\n",
    "Executing this cell should produce an XML element with the following content:\n",
    "\n",
    "```\n",
    "<rspec xmlns:client=\"http://www.protogeni.net/resources/rspec/ext/client/1\" xmlns:emulab=\"http://www.protogeni.net/resources/rspec/ext/emulab/1\" xmlns:jacks=\"http://www.protogeni.net/resources/rspec/ext/jacks/1\" xmlns:xsi=\"http://www.w3.org/2001/XMLSchema-instance\" xmlns=\"http://www.geni.net/resources/rspec/3\" xsi:schemaLocation=\"http://www.geni.net/resources/rspec/3 http://www.geni.net/resources/rspec/3/request.xsd\" type=\"request\">\n",
    "  <rspec_tour xmlns=\"http://www.protogeni.net/resources/rspec/ext/apt-tour/1\">\n",
    "    <description type=\"markdown\">An example of constructing a profile with a single Xen VM.</description>\n",
    "    <instructions type=\"markdown\">Wait for the profile instance to start, and then log in to the VM via the\n",
    "ssh port specified below.  (Note that in this case, you will need to access\n",
    "the VM through a high port on the physical host, since we have not requested\n",
    "a public IP address for the VM itself.)\n",
    "</instructions>\n",
    "  </rspec_tour>\n",
    "  <node client_id=\"node\" exclusive=\"false\">\n",
    "    <sliver_type name=\"emulab-xen\"/>\n",
    "  </node>\n",
    "</rspec>\n",
    "```"
   ]
  },
  {
   "cell_type": "code",
   "execution_count": null,
   "metadata": {},
   "outputs": [],
   "source": [
    "%%writefile examples/test.py\n",
    "\"\"\"An example of constructing a profile with a single Xen VM.\n",
    "\n",
    "Instructions:\n",
    "Wait for the profile instance to start, and then log in to the VM via the\n",
    "ssh port specified below.  (Note that in this case, you will need to access\n",
    "the VM through a high port on the physical host, since we have not requested\n",
    "a public IP address for the VM itself.)\n",
    "\"\"\"\n",
    "\n",
    "import geni.portal as portal\n",
    "import geni.rspec.pg as rspec\n",
    "\n",
    "# Create a Request object to start building the RSpec.\n",
    "request = portal.context.makeRequestRSpec()\n",
    " \n",
    "# Create a XenVM\n",
    "node = request.XenVM(\"node\")\n",
    "\n",
    "# Print the RSpec to the enclosing page.\n",
    "portal.context.printRequestRSpec()"
   ]
  },
  {
   "cell_type": "code",
   "execution_count": null,
   "metadata": {},
   "outputs": [],
   "source": [
    "!python examples/test.py"
   ]
  },
  {
   "cell_type": "markdown",
   "metadata": {
    "collapsed": true
   },
   "source": [
    "** Step 4: Make sure that you have a CloudLab-ready account: **\n",
    "\n",
    "See instructions at [the documentation](http://docs.cloudlab.us/users.html). This can be done either by\n",
    "- authorizing CloudLab to use you GENI account (go ahead and request to join the `ClemsonCITI` project), or\n",
    "- creating a new CloudLab account and request to join the `ClemsonCITI` project. "
   ]
  },
  {
   "cell_type": "markdown",
   "metadata": {},
   "source": [
    "** Step 5: Generate SSH Keys for interaction with CloudLab instances **\n",
    "\n",
    "- On the terminal, generate a pair of public/private SSH keys with no password:\n",
    "```\n",
    "> ssh-keygen -t rsa\n",
    "Generating public/private rsa key pair.\n",
    "Enter file in which to save the key (/home/lngo/.ssh/id_rsa):\n",
    "Enter passphrase (empty for no passphrase):\n",
    "Enter same passphrase again:\n",
    "Your identification has been saved in /home/lngo/.ssh/id_rsa.\n",
    "Your public key has been saved in /home/lngo/.ssh/id_rsa.pub.\n",
    "The key fingerprint is:\n",
    "SHA256:l6oM32bbOKuzhksNak3FWSm7MojBerVuD4FI1j9RjUw lngo@localhost\n",
    "The key's randomart image is:\n",
    "+---[RSA 2048]----+\n",
    "|      oE+.       |\n",
    "|  .  .o=..       |\n",
    "|.o . .+o         |\n",
    "|+o .o.o    .     |\n",
    "|oo.o++ .S o      |\n",
    "|o o+++o  o       |\n",
    "| .o.=+. .        |\n",
    "| . .+=oo+o       |\n",
    "|   ..+B*=+.      |\n",
    "+----[SHA256]-----+\n",
    " \n",
    " > more .ssh/id_rsa.pub\n",
    "ssh-rsa AAAAB3NzaC1yc2EAAAADAQABAAABAQDR6N3MaD717Ti9+LQwKiJsEtwELpPaCDf3j57/iDFKDBB1kULJy/ve3Z0e1JItfzTGEpaAIzUPwRNRzxZ2aR2UQ0qde+8ibj9Ynq/3+UzG5b07FK6zDj35h/fqhaCun1lmhPEwaQh31FXnUqEw7eM5O7RgPGtdy4P7GxXhE5S1Om3fBWrFUD1njfkjL6Z/mMiUzFsxMvpf7HT9rhOVwaLliC9hjwtJPAhibmLEQdI1bHf1IEmJEXN2wBXcGjeUrooWgo1vofTV7rSztIN7zo+42DoVcfAZbepsMlLD9Kk0nly3x7kZNd5i4J3K8+dt9cOUq7j5QLqbvEtaUyOTqIQP LinhBNgo@surface4pro\n",
    "rsa\n",
    "```\n",
    "\n",
    "- Login to `www.cloudlab.us`, select your username on the top right corner and select `Manage SSH Keys`. \n",
    "\n",
    "- Copy the content of the `id_rsa.pub` file into the `Key` box and click `Add Key`"
   ]
  }
 ],
 "metadata": {
  "anaconda-cloud": {},
  "celltoolbar": "Slideshow",
  "kernelspec": {
   "display_name": "Python 2",
   "language": "python",
   "name": "python2"
  },
  "language_info": {
   "codemirror_mode": {
    "name": "ipython",
    "version": 2
   },
   "file_extension": ".py",
   "mimetype": "text/x-python",
   "name": "python",
   "nbconvert_exporter": "python",
   "pygments_lexer": "ipython2",
   "version": "2.7.14"
  }
 },
 "nbformat": 4,
 "nbformat_minor": 1
}
