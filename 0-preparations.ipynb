{
 "cells": [
  {
   "cell_type": "markdown",
   "metadata": {},
   "source": [
    "** Get git package for Conda **"
   ]
  },
  {
   "cell_type": "code",
   "execution_count": null,
   "metadata": {
    "collapsed": false
   },
   "outputs": [],
   "source": [
    "!conda install -y -c anaconda git=2.11.1"
   ]
  },
  {
   "cell_type": "markdown",
   "metadata": {},
   "source": [
    "** Step 1: Set up geni-lib library to enable creation of CloudLab profiles via Python programming **\n",
    "\n",
    "Download a copy of Anaconda for Python 2.7 (if you don't already have one). \n",
    "For MacOS X and Linux users, you can install Anaconda as is o"
   ]
  },
  {
   "cell_type": "code",
   "execution_count": null,
   "metadata": {
    "collapsed": true
   },
   "outputs": [],
   "source": [
    "!wget https://repo.continuum.io/archive/Anaconda3-4.3.1-Linux-x86.sh"
   ]
  },
  {
   "cell_type": "code",
   "execution_count": null,
   "metadata": {
    "collapsed": false
   },
   "outputs": [],
   "source": [
    "!unzip emulab-geni-lib-1baf79cf12cb.zip"
   ]
  },
  {
   "cell_type": "code",
   "execution_count": null,
   "metadata": {
    "collapsed": false
   },
   "outputs": [],
   "source": [
    "!cd emulab-geni-lib-1baf79cf12cb & python setup.py build"
   ]
  },
  {
   "cell_type": "code",
   "execution_count": null,
   "metadata": {
    "collapsed": false
   },
   "outputs": [],
   "source": [
    "!cd emulab-geni-lib-1baf79cf12cb & python setup.py install"
   ]
  },
  {
   "cell_type": "code",
   "execution_count": null,
   "metadata": {
    "collapsed": false
   },
   "outputs": [],
   "source": [
    "\"\"\"An example of constructing a profile with a single Xen VM.\n",
    "\n",
    "Instructions:\n",
    "Wait for the profile instance to start, and then log in to the VM via the\n",
    "ssh port specified below.  (Note that in this case, you will need to access\n",
    "the VM through a high port on the physical host, since we have not requested\n",
    "a public IP address for the VM itself.)\n",
    "\"\"\"\n",
    "\n",
    "import geni.portal as portal\n",
    "import geni.rspec.pg as rspec\n",
    "\n",
    "# Create a Request object to start building the RSpec.\n",
    "request = portal.context.makeRequestRSpec()\n",
    " \n",
    "# Create a XenVM\n",
    "node = request.XenVM(\"node\")\n",
    "\n",
    "# Print the RSpec to the enclosing page.\n",
    "portal.context.printRequestRSpec()"
   ]
  },
  {
   "cell_type": "code",
   "execution_count": null,
   "metadata": {
    "collapsed": true
   },
   "outputs": [],
   "source": []
  }
 ],
 "metadata": {
  "anaconda-cloud": {},
  "kernelspec": {
   "display_name": "Python [default]",
   "language": "python",
   "name": "python2"
  },
  "language_info": {
   "codemirror_mode": {
    "name": "ipython",
    "version": 2
   },
   "file_extension": ".py",
   "mimetype": "text/x-python",
   "name": "python",
   "nbconvert_exporter": "python",
   "pygments_lexer": "ipython2",
   "version": "2.7.12"
  }
 },
 "nbformat": 4,
 "nbformat_minor": 0
}
