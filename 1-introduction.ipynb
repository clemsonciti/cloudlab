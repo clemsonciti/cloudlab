{
 "cells": [
  {
   "cell_type": "markdown",
   "metadata": {
    "slideshow": {
     "slide_type": "slide"
    }
   },
   "source": [
    "# CloudLab\n",
    "\n",
    "- Is testbed designed for experiments with cloud architectures: \n",
    "    - New capabilities in future clouds\n",
    "    - Understanding of the fundamentals of cloud computing\n",
    "- Provides control and/or visibility over parts of system that would be *given* and typically *hidden* in traditional clouds"
   ]
  },
  {
   "cell_type": "markdown",
   "metadata": {
    "slideshow": {
     "slide_type": "slide"
    }
   },
   "source": [
    "## Members\n",
    "- University of Utah\n",
    "- University of Wisconsin, Madison\n",
    "- Clemson University\n",
    "- Raytheon, BBN Technologies\n",
    "- University of Massachusett, Amherst\n",
    "- US Ignite"
   ]
  },
  {
   "cell_type": "markdown",
   "metadata": {
    "slideshow": {
     "slide_type": "slide"
    }
   },
   "source": [
    "## Technology\n",
    "- Underneath, it’s GENI: Same APIs, same account system, many of the same tools, and is federated (accept each other’s accounts, hardware)\n",
    "- Physical isolation for compute and storage \n",
    "- Network is typically shared but can be set to dedicated\n",
    "- Profiles are one of the key abstractions\n",
    "  - Defines an environment – hardware (RSpec) / software (images)\n",
    "  - Each “instance” of a profile is a separate\n",
    "  - Provide standard environments, and a way of sharing\n",
    "  - Explicit role for domain experts\n",
    "- “Instantiate” a profile to make an “Experiment”\n",
    "  - Lives in a GENI slice"
   ]
  },
  {
   "cell_type": "markdown",
   "metadata": {
    "slideshow": {
     "slide_type": "slide"
    }
   },
   "source": [
    "## Hardware: Utah\n",
    "- 315 nodes (m400): 8-core 64-bit ARMv8 at 2.4GHz (AMP X-GENE), 64GB ECC RAM, 120GB of Flash storage\n",
    "- 270 nodes (m510): 8-core Xeon D-1548 at 2.0 GHz, 64GB ECC RAM, 512GB Flash storage"
   ]
  },
  {
   "cell_type": "markdown",
   "metadata": {
    "slideshow": {
     "slide_type": "slide"
    }
   },
   "source": [
    "## Hardware: Wisconsin\n",
    "- 90 nodes (c220g1): Dual 8-core Intel E5-2630 at 2.4 GHz, 128GB ECC RAM, 02 1.2TB 10K RPM HDDs, 01 480GB SSDs\n",
    "- 10 nodes (c240g1): Dual 8-core Intel E5-2630 at 2.4 GHz, 128GB ECC RAM, 12 3TB 10K RPM HDDs, 02 480GB SSDs\n",
    "- 163 nodes (c220g2): Dual 8-core Intel E5-2630 at 2.4 GHz, 160GB ECC RAM, 02 1.2TB 10K RPM HDDs, 01 480GB SSDs\n",
    "- 07 nodes (c240g2): Dual 8-core Intel E5-2630 at 2.4 GHz, 160GB ECC RAM, 12 3TB 10K RPM HDDs, 02 480GB SSDs"
   ]
  },
  {
   "cell_type": "markdown",
   "metadata": {
    "slideshow": {
     "slide_type": "slide"
    }
   },
   "source": [
    "## Hardware: Clemson\n",
    "- 96 nodes (c8820): Dual 10-core Intel E5-2660 at 2.2 GHz, 256GB ECC RAM, 02 1TB 7.2K RPM HDDs\n",
    "- 4 nodes (c8820x): Dual 10-core Intel E5-2660 at 2.2 GHz, 256GB ECC RAM, 08 1TB 7.2K RPM HDDs, 12 4TB 7.2K HDDs\n",
    "- 84 nodes (c6320): Dual 14-core Intel E5-2683v3 at 2.0 GHz, 256GB ECC RAM, 02 1TB 7.2K RPM HDD\n",
    "- 2 nodes (c4130): Dual 12-core Intel E5-2680v3 at 2.5 GHz, 256GB ECC RAM, 02 1TB 7.2K RPM HDD. 02 Tesla K40m GPUs"
   ]
  },
  {
   "cell_type": "markdown",
   "metadata": {
    "slideshow": {
     "slide_type": "slide"
    }
   },
   "source": [
    "## Hardware: Apt Cluster (Utah)\n",
    "- 128 nodes (r320): 8-core Intel E5-2450 at 2.1 GHz, 16GB RAM, 04 500GB 7.2K RPM HDDs\n",
    "- 64 nodes (c6620): Dual 8-core Intel E5-2650v2 at 2.6 GHz, 64GB RAM, 02 1TB 7.2K RPM HDDs"
   ]
  },
  {
   "cell_type": "markdown",
   "metadata": {
    "slideshow": {
     "slide_type": "slide"
    }
   },
   "source": [
    "## Hardware: IG-DDC Cluster (Utah)\n",
    "- 33 nodes (dl360): Dual 8-core Intel E5-2450 at 2.1 GHz, 48GB RAM, 01 1TB 7.2K RPM HDDs"
   ]
  },
  {
   "cell_type": "markdown",
   "metadata": {
    "slideshow": {
     "slide_type": "slide"
    }
   },
   "source": [
    "## Hardware:\n",
    "\n",
    "More information can be found at http://docs.cloudlab.us/hardware.html"
   ]
  }
 ],
 "metadata": {
  "celltoolbar": "Slideshow",
  "kernelspec": {
   "display_name": "Python 2",
   "language": "python",
   "name": "python2"
  },
  "language_info": {
   "codemirror_mode": {
    "name": "ipython",
    "version": 2
   },
   "file_extension": ".py",
   "mimetype": "text/x-python",
   "name": "python",
   "nbconvert_exporter": "python",
   "pygments_lexer": "ipython2",
   "version": "2.7.14"
  }
 },
 "nbformat": 4,
 "nbformat_minor": 2
}
