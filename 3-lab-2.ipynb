{
 "cells": [
  {
   "cell_type": "markdown",
   "metadata": {},
   "source": [
    "## Security Management In the Cloud: Security Group Rules\n",
    "\n",
    "We look at how security for instances inside the Cloud can be managed via OpenStack's Security Group "
   ]
  },
  {
   "cell_type": "markdown",
   "metadata": {},
   "source": [
    "### Task 1:\n",
    "\n",
    "- Deploy an instance inside OpenStack using Ubuntu 12.04 with a floating IP address\n",
    "- Setup an FTP server inside this instance"
   ]
  },
  {
   "cell_type": "markdown",
   "metadata": {},
   "source": [
    "** 1.1. Deploy instance using Ubuntu 12.04 **\n",
    "\n",
    "- OpenStack cloud allows creation of instance using images loaded from external URL or uploaded from local machine\n",
    "- OpenStack online image index: https://docs.openstack.org/image-guide/obtain-images.html\n",
    "- Ubuntu: http://cloud-images.ubuntu.com/"
   ]
  },
  {
   "cell_type": "markdown",
   "metadata": {
    "collapsed": false
   },
   "source": [
    "<img src=\"figures/lab_2/01_image_list.png\"/>"
   ]
  },
  {
   "cell_type": "markdown",
   "metadata": {},
   "source": [
    "<img src=\"figures/lab_2/02_add_image.png\"/>"
   ]
  },
  {
   "cell_type": "markdown",
   "metadata": {},
   "source": [
    "<img src=\"figures/lab_2/03_launch_image_detail.png\"/>"
   ]
  },
  {
   "cell_type": "markdown",
   "metadata": {},
   "source": [
    "<img src=\"figures/lab_2/04_launch_image_source.png\"/>"
   ]
  },
  {
   "cell_type": "markdown",
   "metadata": {},
   "source": [
    "<img src=\"figures/lab_2/05_launch_image_flavor.png\"/>"
   ]
  },
  {
   "cell_type": "markdown",
   "metadata": {},
   "source": [
    "<img src=\"figures/lab_2/06_launch_image_network.png\"/>"
   ]
  },
  {
   "cell_type": "markdown",
   "metadata": {},
   "source": [
    "<img src=\"figures/lab_2/07_launch_image_network_port.png\"/>"
   ]
  },
  {
   "cell_type": "markdown",
   "metadata": {},
   "source": [
    "<img src=\"figures/lab_2/08_launch_image_security_group.png\"/>"
   ]
  },
  {
   "cell_type": "markdown",
   "metadata": {},
   "source": [
    "<img src=\"figures/lab_2/09_launch_image_key_pair.png\"/>"
   ]
  },
  {
   "cell_type": "markdown",
   "metadata": {},
   "source": [
    "<img src=\"figures/lab_2/10_launch_image_configuration.png\"/>"
   ]
  },
  {
   "cell_type": "markdown",
   "metadata": {},
   "source": [
    "<img src=\"figures/lab_2/11_launch_image_metadata.png\"/>"
   ]
  },
  {
   "cell_type": "markdown",
   "metadata": {},
   "source": [
    "<img src=\"figures/lab_2/12_launch_image_spawning.png\"/>"
   ]
  },
  {
   "cell_type": "markdown",
   "metadata": {},
   "source": [
    "<img src=\"figures/lab_2/13_launch_image_floating_ip_association.png\"/>"
   ]
  },
  {
   "cell_type": "markdown",
   "metadata": {},
   "source": [
    "<img src=\"figures/lab_2/14_launch_image_floating_ip_allocation.png\"/>"
   ]
  },
  {
   "cell_type": "markdown",
   "metadata": {},
   "source": [
    "<img src=\"figures/lab_2/15_launch_image_floatiing_ip_association_final.png\"/>"
   ]
  },
  {
   "cell_type": "markdown",
   "metadata": {},
   "source": [
    "We can deploy an instance directly from the `Instaces` tab"
   ]
  },
  {
   "cell_type": "markdown",
   "metadata": {},
   "source": [
    "<img src=\"figures/lab_2/16_launch_instance.png\"/>"
   ]
  },
  {
   "cell_type": "markdown",
   "metadata": {},
   "source": [
    "** 1.2. Challenge: **\n",
    "\n",
    "- Deploy a second instance inside OpenStack using the default `trusty-server` image and a floating IP address. \n",
    "- Name the second instance `test_1`\n",
    "- Use the same configuration steps as `fpt_server`"
   ]
  },
  {
   "cell_type": "markdown",
   "metadata": {},
   "source": [
    "** 1.3. Validate instance deployment: **\n",
    "\n",
    "If the keys for `Key Pair` are set up correctly, you should be able to use your terminals to sssh into the `fpt_server` and `test_1` instances using their floating IP addresses and user account `ubuntu`. \n",
    "\n",
    "```\n",
    "ssh ubuntu@<floating_ip>\n",
    "```\n",
    "\n",
    "You can also ssh into the CloudLab node that has `nmap` set up and perform a port scan on these two IP addresses to observer that SSH ports are opened:\n",
    "\n",
    "<img src=\"figures/lab_2/17_validate_instances.png\" />"
   ]
  },
  {
   "cell_type": "markdown",
   "metadata": {},
   "source": [
    "** 1.4. Set up FTP server: **\n",
    "\n",
    "Once your are logged into instance `fpt_server` via SSH, perform the following steps to set up an FTP server:\n",
    "\n",
    "```\n",
    "sudo su -\n",
    "apt-get install -y vsftpd\n",
    "```\n",
    "\n",
    "Next, execute `vim /etc/vsftpd.conf` to modify the configuration of the FTP server. More specifically, make that the following lines are uncommended:\n",
    "\n",
    "- listen=YES\n",
    "- anonymous_enable=YES\n",
    "- local_enable=YES\n",
    "- write_enable=YES\n",
    "\n",
    "Restart vsftpd service\n",
    "\n",
    "```\n",
    "service vsftpd restart\n",
    "```"
   ]
  },
  {
   "cell_type": "markdown",
   "metadata": {
    "collapsed": false
   },
   "source": [
    "### Task 2:\n",
    "\n",
    "- Modify default security group rules to allow FTP access"
   ]
  },
  {
   "cell_type": "markdown",
   "metadata": {},
   "source": [
    "** 2.1. Check accessibility of the FTP server: **\n",
    "\n",
    "Perform the following checks using *anonymous/anonymous* as FTP login and password:\n",
    "- From `test_1`, ftp into `fpt_server` using the internal IP address of `fpt_server`\n",
    "- From `test_1`, ftp into `fpt_server` using the floating IP address of `fpt_server`\n",
    "- From your local terminal, ftp into `fpt_server` using the floating IP address of `fpt_server`\n",
    "- Run `nmap` port scan on the floating IP address of `fpt_server`"
   ]
  },
  {
   "cell_type": "markdown",
   "metadata": {},
   "source": [
    "By default, all instances are protected inside the Cloud Provider's security measures, isolated from outside world. Additional security configuration is needed to enable external access to the instances. In OpenStack, this can be done via editting security groups"
   ]
  },
  {
   "cell_type": "markdown",
   "metadata": {},
   "source": [
    "<img src=\"figures/lab_2/18_default_security_group.png\" />\""
   ]
  },
  {
   "cell_type": "markdown",
   "metadata": {},
   "source": [
    "Within each security group, there are rules set in place to define how access can be done"
   ]
  },
  {
   "cell_type": "markdown",
   "metadata": {},
   "source": [
    "<img src=\"figures/lab_2/19_default_security_group_rules.png\" />\""
   ]
  },
  {
   "cell_type": "markdown",
   "metadata": {},
   "source": [
    "We can add rules to the default security group to enable FTP access using TCP via port 20/21"
   ]
  },
  {
   "cell_type": "markdown",
   "metadata": {},
   "source": [
    "<img src=\"figures/lab_2/20_default_security_group_add_rule.png\" />\""
   ]
  },
  {
   "cell_type": "markdown",
   "metadata": {},
   "source": [
    "Instances do not need to be modify in anyway. OpenStack will apply the new security rules immmediately on traffic coming to and going from instances associated with the modified security group"
   ]
  },
  {
   "cell_type": "markdown",
   "metadata": {},
   "source": [
    "<img src=\"figures/lab_2/21_rule_impact.png\" />\""
   ]
  },
  {
   "cell_type": "markdown",
   "metadata": {},
   "source": [
    "** 2.2. Challenge: **\n",
    "\n",
    "- Run nmap port scan on the floating IP addresses of `fpt_server` and `test_1`\n",
    "- Identify a potential security breach?"
   ]
  }
 ],
 "metadata": {
  "kernelspec": {
   "display_name": "Python 3",
   "language": "python",
   "name": "python3"
  },
  "language_info": {
   "codemirror_mode": {
    "name": "ipython",
    "version": 3
   },
   "file_extension": ".py",
   "mimetype": "text/x-python",
   "name": "python",
   "nbconvert_exporter": "python",
   "pygments_lexer": "ipython3",
   "version": "3.5.1"
  }
 },
 "nbformat": 4,
 "nbformat_minor": 2
}
