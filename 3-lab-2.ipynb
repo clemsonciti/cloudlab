{
 "cells": [
  {
   "cell_type": "markdown",
   "metadata": {},
   "source": [
    "## Launching a Hadoop cluster\n",
    "\n",
    "We look at how a full Hadoop cluster can be launched on CloudLab "
   ]
  },
  {
   "cell_type": "markdown",
   "metadata": {},
   "source": [
    "In this lab, we are going to modify the profile of Lab 1 to contain:\n",
    "- 4 VM nodes, named *node0* through *node3*\n",
    "- Each node has a unique internal IP address, ranging from 192.168.1.1 to 192.168.1.4\n",
    "- Each node will download and untar the hadoop-3.0.0.tar.gz file into /opt/hadoop and also download and copy the master and slaves files from the repository into /opt/hadoop/conf\n",
    "- *node0* has a public IP address and launches the namenode daemon for the Hadoop cluster\n",
    "- *node1* through *node3* will launch the datanode daemon "
   ]
  },
  {
   "cell_type": "code",
   "execution_count": null,
   "metadata": {},
   "outputs": [],
   "source": [
    "%%writefile examples/profile.py\n",
    "import geni.portal as portal\n",
    "import geni.rspec.pg as rspec\n",
    "import geni.rspec.igext as IG\n",
    "\n",
    "pc = portal.Context()\n",
    "request = rspec.Request()\n",
    "\n",
    "pc.defineParameter(\"workerCount\",\n",
    "                   \"Number of Hadoop DataNodes\",\n",
    "                   portal.ParameterType.INTEGER, 3)\n",
    "\n",
    "pc.defineParameter(\"controllerHost\", \"Name of NameNode\",\n",
    "                   portal.ParameterType.STRING, \"node0\", advanced=True,\n",
    "                   longDescription=\"The short name of the Hadoop NameNode.  You shold leave \\\n",
    "                   this alone unless you really want the hostname to change.\")\n",
    "\n",
    "params = pc.bindParameters()\n",
    "\n",
    "tourDescription = \"This profile provides a configurable Hadoop testbed with one NameNode \\\n",
    "and customizable number of DataNodes.\"\n",
    "\n",
    "tourInstructions = \\\n",
    "  \"\"\"\n",
    "### Basic Instructions\n",
    "Once your experiment nodes have booted, and this profile's configuration scripts \\\n",
    "have finished deploying Hadoop inside your experiment, you'll be able to visit \n",
    "[the HDFS Web UI](http://{host-%s}:9870) (approx. 5-15 minutes).  \n",
    "\"\"\" % (params.controllerHost)\n",
    "\n",
    "#\n",
    "# Setup the Tour info with the above description and instructions.\n",
    "#  \n",
    "tour = IG.Tour()\n",
    "tour.Description(IG.Tour.TEXT,tourDescription)\n",
    "tour.Instructions(IG.Tour.MARKDOWN,tourInstructions)\n",
    "request.addTour(tour)\n",
    "\n",
    "# Create a link with type LAN\n",
    "link = request.LAN(\"lan\")\n",
    "\n",
    "# Generate the nodes\n",
    "for i in range(params.workerCount + 1):\n",
    "    node = request.XenVM(\"node\" + str(i))\n",
    "    node.disk_image = \"urn:publicid:IDN+emulab.net+image+emulab-ops:UBUNTU16-64-STD\"\n",
    "    iface = node.addInterface(\"if\" + str(i))\n",
    "    iface.component_id = \"eth1\"\n",
    "    iface.addAddress(rspec.IPv4Address(\"192.168.1.\" + str(i + 1), \"255.255.255.0\"))\n",
    "    link.addInterface(iface)\n",
    "    \n",
    "    node.addService(rspec.Execute(shell=\"/bin/sh\",\n",
    "                                  command=\"sudo wget http://apache.cs.utah.edu/hadoop/common/hadoop-3.0.0/hadoop-3.0.0.tar.gz\"))\n",
    "    node.addService(rspec.Execute(shell=\"/bin/sh\",\n",
    "                                  command=\"sudo tar xzf hadoop-3.0.0.tar.gz -C /opt/\"))\n",
    "    node.addService(rspec.Execute(shell=\"/bin/sh\",\n",
    "                                  command=\"sudo cp /local/repository/master /opt/hadoop-3.0.0/ect/hadoop/\"))\n",
    "    node.addService(rspec.Execute(shell=\"/bin/sh\",\n",
    "                                  command=\"sudo cp /local/repository/slaves /opt/hadoop-3.0.0/etc/hadoop/workers\"))\n",
    "    node.addService(rspec.Execute(shell=\"/bin/sh\",\n",
    "                                  command=\"sudo cp /local/repository/core-site.xml /opt/hadoop-3.0.0/etc/hadoop/core-site.xml\"))\n",
    "    node.addService(rspec.Execute(shell=\"/bin/sh\",\n",
    "                                  command=\"sudo apt-get update -y\"))\n",
    "    node.addService(rspec.Execute(shell=\"/bin/sh\",\n",
    "                                  command=\"sudo apt-get install -y default-jdk\"))\n",
    "    node.addService(rspec.Execute(shell=\"/bin/sh\",\n",
    "                                  command=\"export JAVA_HOME=/usr/lib/jvm/java-8-openjdk-amd64/\"))    \n",
    "    if i != 0:\n",
    "        node.addService(rspec.Execute(shell=\"/bin/sh\",\n",
    "                                      command=\"sudo sleep 30\"))\n",
    "        node.addService(rspec.Execute(shell=\"/bin/sh\",\n",
    "                                      command=\"sudo /opt/hadoop-3.0.0/bin/hadoop-daemon.sh start datanode\"))\n",
    "    else:\n",
    "        node.routable_control_ip = True\n",
    "        node.addService(rspec.Execute(shell=\"/bin/sh\",\n",
    "                                      command=\"sudo /opt/hadoop-3.0.0/bin/hdfs namenode -format PEARC18\"))\n",
    "        node.addService(rspec.Execute(shell=\"/bin/sh\",\n",
    "                                      command=\"sudo /opt/hadoop-3.0.0/bin/hdfs --daemon start namenode\"))\n",
    "\n",
    "# Print the RSpec to the enclosing page.\n",
    "portal.context.printRequestRSpec(request)"
   ]
  },
  {
   "cell_type": "markdown",
   "metadata": {},
   "source": [
    "Validate the profile"
   ]
  },
  {
   "cell_type": "code",
   "execution_count": null,
   "metadata": {},
   "outputs": [],
   "source": [
    "!python examples/profile.py"
   ]
  },
  {
   "cell_type": "markdown",
   "metadata": {},
   "source": [
    "Once the profile is successfully launched, the profile instruction will have a link pointing to the web interface of the Hadoop cluster. "
   ]
  },
  {
   "cell_type": "markdown",
   "metadata": {},
   "source": [
    "<img src=\"figures/lab2/hadoop-profile.png\"/>"
   ]
  },
  {
   "cell_type": "markdown",
   "metadata": {},
   "source": [
    "<img src=\"figures/lab2/hadoop-webui.png\"/>"
   ]
  },
  {
   "cell_type": "markdown",
   "metadata": {},
   "source": [
    "**Challenge**\n",
    "\n",
    "Update the profile such that YARN is also deployed, with the *Resource Manage* resides on *node0* and each of the remaining nodes hosts a *Node Manager* \n"
   ]
  }
 ],
 "metadata": {
  "kernelspec": {
   "display_name": "Python 2",
   "language": "python",
   "name": "python2"
  },
  "language_info": {
   "codemirror_mode": {
    "name": "ipython",
    "version": 2
   },
   "file_extension": ".py",
   "mimetype": "text/x-python",
   "name": "python",
   "nbconvert_exporter": "python",
   "pygments_lexer": "ipython2",
   "version": "2.7.14"
  }
 },
 "nbformat": 4,
 "nbformat_minor": 2
}
