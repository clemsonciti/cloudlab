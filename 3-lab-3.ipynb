{
 "cells": [
  {
   "cell_type": "markdown",
   "metadata": {
    "slideshow": {
     "slide_type": "slide"
    }
   },
   "source": [
    "## Showcases of students' work in a undergraduate computer science course"
   ]
  },
  {
   "cell_type": "markdown",
   "metadata": {
    "slideshow": {
     "slide_type": "slide"
    }
   },
   "source": [
    "**CPSC 3620, Spring 2017: Distributed and Cluster Computing**\n",
    "- Required junior-level course\n",
    "- System and infrastructure aspects of Distributed Computing"
   ]
  },
  {
   "cell_type": "markdown",
   "metadata": {
    "slideshow": {
     "slide_type": "slide"
    }
   },
   "source": [
    "**Semester Project**\n",
    "\n",
    "- Each team is to select a high performance computing/data-intensive computing infrastructure to study and emulate on CloudLab.\n",
    "- The list of eligible infrastructures include the compute resources of XSEDE, the Palmetto Supercomputer (Clemson University), and the HPCCSystems cluster of (Clemson University). \n",
    "- Only one team can study an infrastructure at a time, and the infrastructure will be assigned based on a first-come-first-serve basis."
   ]
  },
  {
   "cell_type": "markdown",
   "metadata": {
    "slideshow": {
     "slide_type": "slide"
    }
   },
   "source": [
    "**Semester Project**\n",
    "- Students form team and select their top-3 preferences for infrastructures\n",
    "- Students are to study the key components of the infrastructure (software, operating systems, file systems, and schedulers) and attempt to design, deploy, and configure a cluster based on these components on CloudLab"
   ]
  },
  {
   "cell_type": "markdown",
   "metadata": {
    "slideshow": {
     "slide_type": "slide"
    }
   },
   "source": [
    "**Infrastructures**\n",
    "- SDSC Comet (https://github.com/ltmorro/HPC-Project)\n",
    "- SuperMic (https://github.com/SamuelBowen/Cpsc3620-Project)\n",
    "- Trestle (https://github.com/benCoomes/teamKMBR)\n",
    "- Greenfield (https://github.com/DarrellBest/Distributed-And-Cluster-Computing)\n",
    "- Clemson University's Palmetto (https://github.com/sepaul/3620project)\n",
    "- Clemson University's CloudLab (repository deleted)"
   ]
  },
  {
   "cell_type": "markdown",
   "metadata": {
    "slideshow": {
     "slide_type": "slide"
    }
   },
   "source": [
    "**Infrastructures**\n",
    "- XStream\n",
    "- Cowboy\n",
    "- SDSC Gordon\n",
    "- Jetstream"
   ]
  },
  {
   "cell_type": "markdown",
   "metadata": {
    "slideshow": {
     "slide_type": "slide"
    }
   },
   "source": [
    "**Observations**\n",
    "\n",
    "- Few students are equipped with administrative skills for infrastructure design and deployment\n",
    "- Projects are created using baremetals on CloudLab, therefore resource contrainst is a significant issue\n",
    "- There are very few (almost none) technical problems with CloudLab itself. \n"
   ]
  },
  {
   "cell_type": "markdown",
   "metadata": {
    "slideshow": {
     "slide_type": "slide"
    }
   },
   "source": [
    "**CPSC 4770/6770, Spring 2018: Distributed and Cluster Computing**\n",
    "- Advanced undergraduate/graduate course\n",
    "- System and infrastructure aspects of Distributed Computing"
   ]
  },
  {
   "cell_type": "markdown",
   "metadata": {
    "slideshow": {
     "slide_type": "slide"
    }
   },
   "source": [
    "- The course project is converted into a series of assignments building on top of one another\n",
    "- Instead of using baremetals, we are using CloudLab's OpenStack profile instead"
   ]
  },
  {
   "cell_type": "markdown",
   "metadata": {
    "slideshow": {
     "slide_type": "slide"
    }
   },
   "source": [
    "- Students build images for components (file systems, schedulers, compute node ...) offline using VirtualBox\n",
    "- The OpenStack profile on Github is cloned and modified to automate the process of uploading component images into the cloud (which is running on CloudLab's baremetals) and deploying virtual instances using these images. "
   ]
  },
  {
   "cell_type": "markdown",
   "metadata": {
    "slideshow": {
     "slide_type": "slide"
    }
   },
   "source": [
    "- Linux adminstrative skills are learned by building the offline images\n",
    "- Distributed system deployment and configuration are learned by deploy and configure the instances inside the OpenStack environment\n",
    "- During the entire process, cloud computing knowledge is also acquired"
   ]
  },
  {
   "cell_type": "markdown",
   "metadata": {
    "slideshow": {
     "slide_type": "slide"
    }
   },
   "source": [
    "**Demo**\n",
    "- Baseline modified CloudLab OpenStack profile: https://github.com/linhbngo/cloudlab_openstack\n",
    "- Example students' profile: https://github.com/nevdullcode/cloudlab_openstack"
   ]
  }
 ],
 "metadata": {
  "celltoolbar": "Slideshow",
  "kernelspec": {
   "display_name": "Python 2",
   "language": "python",
   "name": "python2"
  },
  "language_info": {
   "codemirror_mode": {
    "name": "ipython",
    "version": 2
   },
   "file_extension": ".py",
   "mimetype": "text/x-python",
   "name": "python",
   "nbconvert_exporter": "python",
   "pygments_lexer": "ipython2",
   "version": "2.7.14"
  }
 },
 "nbformat": 4,
 "nbformat_minor": 2
}
