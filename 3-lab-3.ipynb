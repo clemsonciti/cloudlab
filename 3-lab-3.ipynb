{
 "cells": [
  {
   "cell_type": "markdown",
   "metadata": {},
   "source": [
    "## Modifying and launching infrastructures from inside CloudLab's Openstack Profile\n",
    "\n",
    "For scalability purposes, we can study infrastructures using a cloud computing platform deployed using CloudLab's default Openstack Profile. Modifications can be made to support reproducability and automation. "
   ]
  },
  {
   "cell_type": "markdown",
   "metadata": {},
   "source": [
    "** Previous Lab's challenge: **\n",
    "\n",
    "<img src=\"figures/lab_3/01_security_breach.png\" />\""
   ]
  },
  {
   "cell_type": "markdown",
   "metadata": {},
   "source": [
    "### Task 1:\n",
    "Improve security by adding new security groups and modify security group associations for the instances"
   ]
  },
  {
   "cell_type": "markdown",
   "metadata": {},
   "source": [
    "** 1.1. Secure `default` group **\n",
    "\n",
    "- Delete rules associated with FTP access from the `default` security group\n",
    "- Validate by running `nmap` against the floating IP addresses"
   ]
  },
  {
   "cell_type": "markdown",
   "metadata": {},
   "source": [
    "** 1.2. Create new security group: **\n",
    "\n",
    "- Create a new security group named `fpt_group`. \n",
    "- Add rules to support SSH and FTP connection, both ingress and egress\n",
    "- Disassociate `fpt_server` from security group `default` and assciate the server with the new security group\n"
   ]
  },
  {
   "cell_type": "markdown",
   "metadata": {},
   "source": [
    "<img src=\"figures/lab_3/02_create_security_group.png\" />"
   ]
  },
  {
   "cell_type": "markdown",
   "metadata": {},
   "source": [
    "<img src=\"figures/lab_3/03_create_rules.png\" />"
   ]
  },
  {
   "cell_type": "markdown",
   "metadata": {},
   "source": [
    "<img src=\"figures/lab_3/04_security_groups.png\" />"
   ]
  },
  {
   "cell_type": "markdown",
   "metadata": {},
   "source": [
    "<img src=\"figures/lab_3/05_modify_security_group.png\" />"
   ]
  },
  {
   "cell_type": "markdown",
   "metadata": {},
   "source": [
    "<img src=\"figures/lab_3/06_modify_security_group.png\" />"
   ]
  },
  {
   "cell_type": "markdown",
   "metadata": {},
   "source": [
    "** 1.3. Validate new security rules: **\n",
    "\n",
    "- Run nmap against the floating IP addresses to confirm that the breach on `test_1` is closed while `fpt_server` is still accessible\n",
    "\n",
    "<img src=\"figures/lab_3/07_secured.png\" />"
   ]
  },
  {
   "cell_type": "markdown",
   "metadata": {},
   "source": [
    "### Task 2: Challenge\n",
    "\n",
    "- Set up a simple Apache webserver on `test_1`\n",
    "- Create a new security group that support only HTTP access\n",
    "- Associate `test_1` with the new security group and validate access through `nmap` as well as direct access to the webserver via a browser"
   ]
  }
 ],
 "metadata": {
  "kernelspec": {
   "display_name": "Python 2",
   "language": "python",
   "name": "python2"
  },
  "language_info": {
   "codemirror_mode": {
    "name": "ipython",
    "version": 2
   },
   "file_extension": ".py",
   "mimetype": "text/x-python",
   "name": "python",
   "nbconvert_exporter": "python",
   "pygments_lexer": "ipython2",
   "version": "2.7.14"
  }
 },
 "nbformat": 4,
 "nbformat_minor": 2
}
