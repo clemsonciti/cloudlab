{
 "cells": [
  {
   "cell_type": "markdown",
   "metadata": {
    "slideshow": {
     "slide_type": "slide"
    }
   },
   "source": [
    "In this lab, we will look at different actors and components within a cloud computing infrastructure"
   ]
  },
  {
   "cell_type": "markdown",
   "metadata": {
    "slideshow": {
     "slide_type": "slide"
    }
   },
   "source": [
    "In any cloud computing infrastructure, public or private, we have:\n",
    "- Cloud Provider: infrastructure to support deployment of computing instances\n",
    "- Cloud User: instances deployed off of infrastructure"
   ]
  },
  {
   "cell_type": "markdown",
   "metadata": {
    "slideshow": {
     "slide_type": "slide"
    }
   },
   "source": [
    "Cloud Provider is responsible for security **of** the cloud (based on AWS' guideline)\n",
    "- Physical security of data centers\n",
    "    - Controlled, need-based access\n",
    "- Hardware and software infrastructure\n",
    "    - Storage decommissioning, host OS access logged and audited\n",
    "- Network infrastructure\n",
    "    - Intrusion detection\n",
    "- Virtualization infrastructure\n",
    "    - Instance isolation"
   ]
  },
  {
   "cell_type": "markdown",
   "metadata": {
    "slideshow": {
     "slide_type": "slide"
    }
   },
   "source": [
    "Cloud User is responsible for security **in** the cloud (based on AWS' guideline')\n",
    "- Instance operating system\n",
    "    - Including patching, maintenance\n",
    "- Application\n",
    "    - Passwords, role-based access, etc.\n",
    "- Security groups\n",
    "- OS/host-based firewalls\n",
    "    - Including intrusion detection/prevention systems\n",
    "- Network configuration\n",
    "- Account management\n",
    "    - Separation of access"
   ]
  },
  {
   "cell_type": "markdown",
   "metadata": {
    "slideshow": {
     "slide_type": "slide"
    }
   },
   "source": [
    "## Launch a default OpenStack Cloud\n",
    "\n",
    "- Log in to www.cloudlab.us, \n",
    "- On the top left corner, select `Start Experiment`\n",
    "- This will take you to the default profile, which is the `OpenStack` profile"
   ]
  },
  {
   "cell_type": "markdown",
   "metadata": {
    "slideshow": {
     "slide_type": "slide"
    }
   },
   "source": [
    "** Standard parameters **\n",
    "- OpenStack Release: Mitaka\n",
    "- Number of compute nodes (at Site 1): 2\n",
    "\n",
    "** Advanced parameters **\n",
    "- Disable security group enforcement: check\n",
    "- Enable inbound SSH and ICMP: check\n",
    "- Enable new Juno serial consoles: check"
   ]
  },
  {
   "cell_type": "markdown",
   "metadata": {
    "slideshow": {
     "slide_type": "slide"
    }
   },
   "source": [
    "## Create a baseline instance in project ClemsonCITI\n",
    "\n",
    "- Setup a single PC node using raw-pc and CentOS-7.1 and with Publicly Routable IP\n",
    "- In `Description` box, type 'Single PC deployment'\n",
    "- We could customize various versions of this single PC for future experiments\n",
    "- Create this profile"
   ]
  },
  {
   "cell_type": "markdown",
   "metadata": {
    "slideshow": {
     "slide_type": "slide"
    }
   },
   "source": [
    "## Customize into an instance with attacking tools in project ClemsonCITI\n",
    "\n",
    "- Open `Topology`\n",
    "- Add the following line under `Execute Command`\n",
    "```\n",
    "sudo rpm -vhU https://nmap.org/dist/nmap-7.40-1.x86_64.rpm\n",
    "sudo yum -y install tcptraceroute\n",
    "sudo wget http://pingpros.com/pub/tcpping -P /usr/bin\n",
    "sudo chmod 755 /usr/bin/tcpping\n",
    "sudo yum -y install epel-release\n",
    "sudo yum -y install hping3\n",
    "```\n",
    "- Accept\n",
    "- Modify the `Description` box to 'Single PC Deployment with nmap installed'\n",
    "- Save\n",
    "- Instantiate"
   ]
  },
  {
   "cell_type": "markdown",
   "metadata": {
    "slideshow": {
     "slide_type": "slide"
    }
   },
   "source": [
    "## Scan the Cloud Service Provider\n",
    "From the attacking instasnce, run the followings:\n",
    "- YOUR_CLOUD_PROVIDER_HOST: the hostname listed in `List View` of `ctl` node\n",
    "- pinging the provider\n",
    "```\n",
    "ping YOUR_CLOUD_PROVIDER_HOST                                                                                          \n",
    "```    \n",
    "- scanning for opened ports on the provider\n",
    "```\n",
    "nmap YOUR_CLOUD_PROVIDER_HOST\n",
    "```"
   ]
  }
 ],
 "metadata": {
  "celltoolbar": "Slideshow",
  "kernelspec": {
   "display_name": "Python 2",
   "language": "python",
   "name": "python2"
  },
  "language_info": {
   "codemirror_mode": {
    "name": "ipython",
    "version": 2
   },
   "file_extension": ".py",
   "mimetype": "text/x-python",
   "name": "python",
   "nbconvert_exporter": "python",
   "pygments_lexer": "ipython2",
   "version": "2.7.13"
  }
 },
 "nbformat": 4,
 "nbformat_minor": 2
}
