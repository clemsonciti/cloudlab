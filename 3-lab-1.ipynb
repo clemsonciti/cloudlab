{
 "cells": [
  {
   "cell_type": "markdown",
   "metadata": {
    "slideshow": {
     "slide_type": "slide"
    }
   },
   "source": [
    "## Launching CloudLab Profiles from Github\n",
    "\n",
    "In this lab, we will look at how to deploy a CloudLab experiment through a Python profile that is hosted insite a publicly accessible Github repository"
   ]
  },
  {
   "cell_type": "markdown",
   "metadata": {
    "slideshow": {
     "slide_type": "slide"
    }
   },
   "source": [
    "In your Github Repository, create a Python repository named *example-cloudlab*"
   ]
  },
  {
   "cell_type": "markdown",
   "metadata": {
    "slideshow": {
     "slide_type": "slide"
    }
   },
   "source": [
    "Create the following *profile.py* file by running the notebook cell below"
   ]
  },
  {
   "cell_type": "code",
   "execution_count": 5,
   "metadata": {},
   "outputs": [
    {
     "name": "stdout",
     "output_type": "stream",
     "text": [
      "Overwriting examples/profile.py\n"
     ]
    }
   ],
   "source": [
    "%%writefile examples/profile.py\n",
    "import geni.portal as portal\n",
    "import geni.rspec.pg as rspec\n",
    "import geni.rspec.igext as IG\n",
    "\n",
    "pc = portal.Context()\n",
    "request = rspec.Request()\n",
    "\n",
    "tourDescription = \"This profile provides a baseline Ubuntu 14.4 image\"\n",
    "\n",
    "#\n",
    "# Setup the Tour info with the above description and instructions.\n",
    "#  \n",
    "tour = IG.Tour()\n",
    "tour.Description(IG.Tour.TEXT,tourDescription)\n",
    "request.addTour(tour)\n",
    "\n",
    "node = request.RawPC(\"basenode\")\n",
    "node.disk_image = \"urn:publicid:IDN+emulab.net+image+emulab-ops:UBUNTU14-64-STD\"\n",
    "\n",
    "node.addService(rspec.Execute(shell=\"/bin/sh\",\n",
    "                              command=\"touch test.txt\"))   \n",
    "\n",
    "# Print the RSpec to the enclosing page.\n",
    "portal.context.printRequestRSpec(request)"
   ]
  },
  {
   "cell_type": "markdown",
   "metadata": {
    "slideshow": {
     "slide_type": "slide"
    }
   },
   "source": [
    "Test profile validity"
   ]
  },
  {
   "cell_type": "code",
   "execution_count": 6,
   "metadata": {
    "slideshow": {
     "slide_type": "slide"
    }
   },
   "outputs": [
    {
     "name": "stdout",
     "output_type": "stream",
     "text": [
      "<rspec xmlns:client=\"http://www.protogeni.net/resources/rspec/ext/client/1\" xmlns:emulab=\"http://www.protogeni.net/resources/rspec/ext/emulab/1\" xmlns:jacks=\"http://www.protogeni.net/resources/rspec/ext/jacks/1\" xmlns:xsi=\"http://www.w3.org/2001/XMLSchema-instance\" xmlns=\"http://www.geni.net/resources/rspec/3\" xsi:schemaLocation=\"http://www.geni.net/resources/rspec/3 http://www.geni.net/resources/rspec/3/request.xsd\" type=\"request\">\n",
      "  <rspec_tour xmlns=\"http://www.protogeni.net/resources/rspec/ext/apt-tour/1\">\n",
      "    <description type=\"text\">This profile provides a baseline Ubuntu 14.4 image</description>\n",
      "  </rspec_tour>\n",
      "  <node client_id=\"basenode\" exclusive=\"true\">\n",
      "    <sliver_type name=\"raw\">\n",
      "      <disk_image name=\"urn:publicid:IDN+emulab.net+image+emulab-ops:UBUNTU14-64-STD\"/>\n",
      "    </sliver_type>\n",
      "    <services>\n",
      "      <execute shell=\"/bin/sh\" command=\"touch test.txt\"/>\n",
      "    </services>\n",
      "  </node>\n",
      "</rspec>\n"
     ]
    }
   ],
   "source": [
    "!python examples/profile.py"
   ]
  },
  {
   "cell_type": "markdown",
   "metadata": {
    "slideshow": {
     "slide_type": "slide"
    }
   },
   "source": [
    "Upload the *profile.py* file into the *example-cloudlab* repository"
   ]
  },
  {
   "cell_type": "markdown",
   "metadata": {
    "slideshow": {
     "slide_type": "slide"
    }
   },
   "source": [
    "<center>\n",
    "<img src='figures/lab1/github.png' width='70%'/>\n",
    "</center>"
   ]
  },
  {
   "cell_type": "markdown",
   "metadata": {
    "slideshow": {
     "slide_type": "slide"
    }
   },
   "source": [
    "Create a new profile on CLoudLab by linking to this repository"
   ]
  },
  {
   "cell_type": "markdown",
   "metadata": {
    "slideshow": {
     "slide_type": "slide"
    }
   },
   "source": [
    "<center>\n",
    "<img src='figures/lab1/profile.png' width='70%'/>\n",
    "</center>"
   ]
  },
  {
   "cell_type": "markdown",
   "metadata": {
    "slideshow": {
     "slide_type": "slide"
    }
   },
   "source": [
    "Fill in remaining information to create a profile named *pearc-username*"
   ]
  },
  {
   "cell_type": "markdown",
   "metadata": {
    "slideshow": {
     "slide_type": "slide"
    }
   },
   "source": [
    "<center>\n",
    "<img src='figures/lab1/profile.png' width='70%'/>\n",
    "</center>"
   ]
  },
  {
   "cell_type": "markdown",
   "metadata": {
    "slideshow": {
     "slide_type": "slide"
    }
   },
   "source": [
    "**Challenge**\n",
    "- Open a shell and check outcome of embedded executables (each command and its outcome is stored at /var/tmp/startup-...)\n",
    "- Examine the */local/repository* location"
   ]
  },
  {
   "cell_type": "markdown",
   "metadata": {
    "slideshow": {
     "slide_type": "slide"
    }
   },
   "source": [
    "**Challenge**\n",
    "- Open the *pearc-username* profile and select Edit\n",
    "- Follow the instructions of CloudLab at *Push URL* to setup the webhook\n",
    "- Modify the profile.py code on CloudLab to do the following:\n",
    "  - Download the latest version of Apache Hadoop\n",
    "  - Untar the downloaded file under */opt/hadoop*\n",
    "  - Create the *slaves* and *master* files inside */opt/hadoop/conf* such that *master* file contains 192.168.1.1 and *slaves* contains 192.168.1.2 through 192.168.1.4 (one per line)\n",
    "- Relaunch the experiment to confirm that these instructions work as intended inside the single-node experiment"
   ]
  }
 ],
 "metadata": {
  "celltoolbar": "Slideshow",
  "kernelspec": {
   "display_name": "Python 2",
   "language": "python",
   "name": "python2"
  },
  "language_info": {
   "codemirror_mode": {
    "name": "ipython",
    "version": 2
   },
   "file_extension": ".py",
   "mimetype": "text/x-python",
   "name": "python",
   "nbconvert_exporter": "python",
   "pygments_lexer": "ipython2",
   "version": "2.7.14"
  }
 },
 "nbformat": 4,
 "nbformat_minor": 2
}
