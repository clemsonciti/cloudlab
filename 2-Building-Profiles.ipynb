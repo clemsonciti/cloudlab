{
 "cells": [
  {
   "cell_type": "markdown",
   "metadata": {
    "slideshow": {
     "slide_type": "slide"
    }
   },
   "source": [
    "## Approaches to build experimental profile\n",
    "- Copy an existing profile\n",
    "- Use a GUI (Jacks)\n",
    "- Write Python Code (geni-lib)"
   ]
  },
  {
   "cell_type": "markdown",
   "metadata": {
    "slideshow": {
     "slide_type": "slide"
    }
   },
   "source": [
    "## Copy an existing profile\n",
    "<center>\n",
    "<img src='figures/copy_profile.png' width='70%'/>\n",
    "</center>"
   ]
  },
  {
   "cell_type": "markdown",
   "metadata": {
    "collapsed": true,
    "slideshow": {
     "slide_type": "slide"
    }
   },
   "source": [
    "## Use a GUI\n",
    "<center>\n",
    "<img src='figures/profile_via_GUI.png' width='70%'/>\n",
    "</center>"
   ]
  },
  {
   "cell_type": "markdown",
   "metadata": {
    "collapsed": true,
    "slideshow": {
     "slide_type": "slide"
    }
   },
   "source": [
    "## Write Python code (geni-lib)\n",
    "<center>\n",
    "<img src='figures/profile_via_Python.png' width='50%'/>\n",
    "</center>"
   ]
  },
  {
   "cell_type": "markdown",
   "metadata": {
    "slideshow": {
     "slide_type": "slide"
    }
   },
   "source": [
    "## Tutorial Modules:\n",
    "\n",
    "- Lab 1: Setup and launch a CloudLab experiment from a Github Repository\n",
    "- Lab 2: Launch a cluster with Hadoop inside a CloudLab Openstack Cloud Environment"
   ]
  }
 ],
 "metadata": {
  "celltoolbar": "Slideshow",
  "kernelspec": {
   "display_name": "Python 2",
   "language": "python",
   "name": "python2"
  },
  "language_info": {
   "codemirror_mode": {
    "name": "ipython",
    "version": 2
   },
   "file_extension": ".py",
   "mimetype": "text/x-python",
   "name": "python",
   "nbconvert_exporter": "python",
   "pygments_lexer": "ipython2",
   "version": "2.7.14"
  }
 },
 "nbformat": 4,
 "nbformat_minor": 2
}
